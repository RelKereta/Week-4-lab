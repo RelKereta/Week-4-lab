{
 "cells": [
  {
   "cell_type": "code",
   "execution_count": 2,
   "metadata": {},
   "outputs": [
    {
     "name": "stdout",
     "output_type": "stream",
     "text": [
      "Valid and the perimiter is 9\n"
     ]
    }
   ],
   "source": [
    "AB = int(input(\"enter a number\"))\n",
    "BC = int(input(\"enter a number\"))\n",
    "CA = int(input(\"enter a number\"))\n",
    "\n",
    "if AB + BC > CA and BC + CA > AB and AB + CA > BC:\n",
    "    print(\"Valid and the perimiter is \" + str(AB + BC + CA))\n",
    "\n",
    "else:\n",
    "    print(\"invalid\")"
   ]
  },
  {
   "cell_type": "code",
   "execution_count": 4,
   "metadata": {},
   "outputs": [
    {
     "name": "stdout",
     "output_type": "stream",
     "text": [
      "total amount per person: $22.0\n",
      "tip amount per person: $2.0\n"
     ]
    }
   ],
   "source": [
    "bill = int(input(\"cash total\"))\n",
    "tip = int(input(\"tip percentage\"))\n",
    "people = int(input(\"number of people\"))\n",
    "\n",
    "x = (bill / people)\n",
    "y = (bill * (tip/100))/people\n",
    "z = str(x + y)\n",
    "print(\"total amount per person: $\" + z)\n",
    "print(\"tip amount per person: $\" + str(y))"
   ]
  },
  {
   "cell_type": "code",
   "execution_count": 6,
   "metadata": {},
   "outputs": [
    {
     "name": "stdout",
     "output_type": "stream",
     "text": [
      "result: 3:25:45\n"
     ]
    }
   ],
   "source": [
    "s = int(input(\"enter the number of seconds\"))\n",
    "\n",
    "hour = s // 3600\n",
    "minutes = (s % 3600) //60\n",
    "seconds = s % 60\n",
    "\n",
    "print(f\"result: {hour}:{minutes}:{seconds}\")"
   ]
  },
  {
   "cell_type": "code",
   "execution_count": 21,
   "metadata": {},
   "outputs": [
    {
     "name": "stdout",
     "output_type": "stream",
     "text": [
      "['My', 'name', 'is', 'Kelly']\n"
     ]
    }
   ],
   "source": [
    "list1 = [\"M\", \"na\", \"i\", \"Ke\"]\n",
    "list2 = [\"y\", \"me\", \"s\", \"lly\"]\n",
    "total = []\n",
    "for i in range(4):\n",
    "    total.append(list1[i]+list2[i])\n",
    "\n",
    "print(total)  "
   ]
  },
  {
   "cell_type": "code",
   "execution_count": 18,
   "metadata": {},
   "outputs": [
    {
     "name": "stdout",
     "output_type": "stream",
     "text": [
      "10 400\n",
      "20 300\n",
      "30 200\n",
      "40 100\n"
     ]
    }
   ],
   "source": [
    "list1 = [10,20,30,40]\n",
    "list2 = [100,200,300,400]\n",
    "result = []\n",
    "for item1, item2 in zip(list1, reversed(list2)):\n",
    "    result = (f'{item1} {item2}')\n",
    "    print(result)"
   ]
  },
  {
   "cell_type": "code",
   "execution_count": 22,
   "metadata": {},
   "outputs": [
    {
     "name": "stdout",
     "output_type": "stream",
     "text": [
      "['Hello Dear', 'Hello Sir', 'take Dear', 'take Sir']\n"
     ]
    }
   ],
   "source": [
    "list1 = [\"Hello\", \"take\"]\n",
    "list2 = [\"Dear\", \"Sir\"]\n",
    "\n",
    "result = []\n",
    "for item1 in list1:\n",
    "    for item2 in list2:\n",
    "        result.append(f'{item1} {item2}')\n",
    "print(result)"
   ]
  }
 ],
 "metadata": {
  "kernelspec": {
   "display_name": "Python 3",
   "language": "python",
   "name": "python3"
  },
  "language_info": {
   "codemirror_mode": {
    "name": "ipython",
    "version": 3
   },
   "file_extension": ".py",
   "mimetype": "text/x-python",
   "name": "python",
   "nbconvert_exporter": "python",
   "pygments_lexer": "ipython3",
   "version": "3.11.5"
  }
 },
 "nbformat": 4,
 "nbformat_minor": 2
}
